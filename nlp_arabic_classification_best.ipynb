{
 "cells": [
  {
   "cell_type": "code",
   "execution_count": 2,
   "id": "ff32e1ed",
   "metadata": {
    "_cell_guid": "b1076dfc-b9ad-4769-8c92-a6c4dae69d19",
    "_uuid": "8f2839f25d086af736a60e9eeb907d3b93b6e0e5",
    "execution": {
     "iopub.execute_input": "2023-05-04T00:39:08.858943Z",
     "iopub.status.busy": "2023-05-04T00:39:08.858503Z",
     "iopub.status.idle": "2023-05-04T00:39:22.804913Z",
     "shell.execute_reply": "2023-05-04T00:39:22.803969Z"
    },
    "id": "ff32e1ed",
    "papermill": {
     "duration": 13.955279,
     "end_time": "2023-05-04T00:39:22.807163",
     "exception": false,
     "start_time": "2023-05-04T00:39:08.851884",
     "status": "completed"
    },
    "tags": []
   },
   "outputs": [],
   "source": [
    "import numpy as np\n",
    "import pandas as pd \n",
    "from keras.models import Sequential\n",
    "from keras.layers import Embedding, LSTM, Dense, Dropout\n",
    "from sklearn.model_selection import train_test_split\n",
    "from keras.preprocessing.text import Tokenizer\n",
    "\n",
    "from sklearn.preprocessing import LabelEncoder\n",
    "from tensorflow.keras.preprocessing.sequence import pad_sequences\n",
    "from keras.optimizers import Adam\n",
    "from keras.regularizers import L1,L2\n",
    "from tensorflow.keras import layers\n",
    "import matplotlib.pyplot as plt\n",
    "import tensorflow as tf"
   ]
  },
  {
   "cell_type": "code",
   "execution_count": 2,
   "id": "L-SXYbVCprTS",
   "metadata": {
    "colab": {
     "base_uri": "https://localhost:8080/"
    },
    "id": "L-SXYbVCprTS",
    "outputId": "1306da66-a448-4c5e-e8a7-009114f39887"
   },
   "outputs": [
    {
     "name": "stdout",
     "output_type": "stream",
     "text": [
      "Archive:  /content/archive.zip\n",
      "  inflating: arabic_dataset_classifiction.csv/arabic_dataset_classifiction.csv  \n"
     ]
    }
   ],
   "source": [
    "!unzip '/content/archive.zip'"
   ]
  },
  {
   "cell_type": "code",
   "execution_count": 3,
   "id": "-6SIXr4hp5SY",
   "metadata": {
    "id": "-6SIXr4hp5SY"
   },
   "outputs": [],
   "source": [
    "df=pd.read_csv('/content/arabic_dataset_classifiction.csv/arabic_dataset_classifiction.csv')"
   ]
  },
  {
   "cell_type": "code",
   "execution_count": 4,
   "id": "YzsoQ4lvqhbJ",
   "metadata": {
    "colab": {
     "base_uri": "https://localhost:8080/",
     "height": 206
    },
    "id": "YzsoQ4lvqhbJ",
    "outputId": "2eceb19c-3ca2-4b44-b953-7b8d7f2477a9"
   },
   "outputs": [
    {
     "data": {
      "application/vnd.google.colaboratory.intrinsic+json": {
       "type": "dataframe",
       "variable_name": "df"
      },
      "text/html": [
       "\n",
       "  <div id=\"df-25e4e7d5-0b5b-44cc-9703-d1c61110e7e8\" class=\"colab-df-container\">\n",
       "    <div>\n",
       "<style scoped>\n",
       "    .dataframe tbody tr th:only-of-type {\n",
       "        vertical-align: middle;\n",
       "    }\n",
       "\n",
       "    .dataframe tbody tr th {\n",
       "        vertical-align: top;\n",
       "    }\n",
       "\n",
       "    .dataframe thead th {\n",
       "        text-align: right;\n",
       "    }\n",
       "</style>\n",
       "<table border=\"1\" class=\"dataframe\">\n",
       "  <thead>\n",
       "    <tr style=\"text-align: right;\">\n",
       "      <th></th>\n",
       "      <th>text</th>\n",
       "      <th>targe</th>\n",
       "    </tr>\n",
       "  </thead>\n",
       "  <tbody>\n",
       "    <tr>\n",
       "      <th>0</th>\n",
       "      <td>بين أستوديوهات ورزازات وصحراء مرزوكة وآثار ولي...</td>\n",
       "      <td>0</td>\n",
       "    </tr>\n",
       "    <tr>\n",
       "      <th>1</th>\n",
       "      <td>قررت النجمة الأمريكية أوبرا وينفري ألا يقتصر ع...</td>\n",
       "      <td>0</td>\n",
       "    </tr>\n",
       "    <tr>\n",
       "      <th>2</th>\n",
       "      <td>أخبارنا المغربية الوزاني تصوير الشملالي ألهب ا...</td>\n",
       "      <td>0</td>\n",
       "    </tr>\n",
       "    <tr>\n",
       "      <th>3</th>\n",
       "      <td>اخبارنا المغربية قال ابراهيم الراشدي محامي سعد...</td>\n",
       "      <td>0</td>\n",
       "    </tr>\n",
       "    <tr>\n",
       "      <th>4</th>\n",
       "      <td>تزال صناعة الجلود في المغرب تتبع الطريقة التقل...</td>\n",
       "      <td>0</td>\n",
       "    </tr>\n",
       "  </tbody>\n",
       "</table>\n",
       "</div>\n",
       "    <div class=\"colab-df-buttons\">\n",
       "\n",
       "  <div class=\"colab-df-container\">\n",
       "    <button class=\"colab-df-convert\" onclick=\"convertToInteractive('df-25e4e7d5-0b5b-44cc-9703-d1c61110e7e8')\"\n",
       "            title=\"Convert this dataframe to an interactive table.\"\n",
       "            style=\"display:none;\">\n",
       "\n",
       "  <svg xmlns=\"http://www.w3.org/2000/svg\" height=\"24px\" viewBox=\"0 -960 960 960\">\n",
       "    <path d=\"M120-120v-720h720v720H120Zm60-500h600v-160H180v160Zm220 220h160v-160H400v160Zm0 220h160v-160H400v160ZM180-400h160v-160H180v160Zm440 0h160v-160H620v160ZM180-180h160v-160H180v160Zm440 0h160v-160H620v160Z\"/>\n",
       "  </svg>\n",
       "    </button>\n",
       "\n",
       "  <style>\n",
       "    .colab-df-container {\n",
       "      display:flex;\n",
       "      gap: 12px;\n",
       "    }\n",
       "\n",
       "    .colab-df-convert {\n",
       "      background-color: #E8F0FE;\n",
       "      border: none;\n",
       "      border-radius: 50%;\n",
       "      cursor: pointer;\n",
       "      display: none;\n",
       "      fill: #1967D2;\n",
       "      height: 32px;\n",
       "      padding: 0 0 0 0;\n",
       "      width: 32px;\n",
       "    }\n",
       "\n",
       "    .colab-df-convert:hover {\n",
       "      background-color: #E2EBFA;\n",
       "      box-shadow: 0px 1px 2px rgba(60, 64, 67, 0.3), 0px 1px 3px 1px rgba(60, 64, 67, 0.15);\n",
       "      fill: #174EA6;\n",
       "    }\n",
       "\n",
       "    .colab-df-buttons div {\n",
       "      margin-bottom: 4px;\n",
       "    }\n",
       "\n",
       "    [theme=dark] .colab-df-convert {\n",
       "      background-color: #3B4455;\n",
       "      fill: #D2E3FC;\n",
       "    }\n",
       "\n",
       "    [theme=dark] .colab-df-convert:hover {\n",
       "      background-color: #434B5C;\n",
       "      box-shadow: 0px 1px 3px 1px rgba(0, 0, 0, 0.15);\n",
       "      filter: drop-shadow(0px 1px 2px rgba(0, 0, 0, 0.3));\n",
       "      fill: #FFFFFF;\n",
       "    }\n",
       "  </style>\n",
       "\n",
       "    <script>\n",
       "      const buttonEl =\n",
       "        document.querySelector('#df-25e4e7d5-0b5b-44cc-9703-d1c61110e7e8 button.colab-df-convert');\n",
       "      buttonEl.style.display =\n",
       "        google.colab.kernel.accessAllowed ? 'block' : 'none';\n",
       "\n",
       "      async function convertToInteractive(key) {\n",
       "        const element = document.querySelector('#df-25e4e7d5-0b5b-44cc-9703-d1c61110e7e8');\n",
       "        const dataTable =\n",
       "          await google.colab.kernel.invokeFunction('convertToInteractive',\n",
       "                                                    [key], {});\n",
       "        if (!dataTable) return;\n",
       "\n",
       "        const docLinkHtml = 'Like what you see? Visit the ' +\n",
       "          '<a target=\"_blank\" href=https://colab.research.google.com/notebooks/data_table.ipynb>data table notebook</a>'\n",
       "          + ' to learn more about interactive tables.';\n",
       "        element.innerHTML = '';\n",
       "        dataTable['output_type'] = 'display_data';\n",
       "        await google.colab.output.renderOutput(dataTable, element);\n",
       "        const docLink = document.createElement('div');\n",
       "        docLink.innerHTML = docLinkHtml;\n",
       "        element.appendChild(docLink);\n",
       "      }\n",
       "    </script>\n",
       "  </div>\n",
       "\n",
       "\n",
       "<div id=\"df-f7b75e25-bbcb-4185-9e57-6d2822b6000d\">\n",
       "  <button class=\"colab-df-quickchart\" onclick=\"quickchart('df-f7b75e25-bbcb-4185-9e57-6d2822b6000d')\"\n",
       "            title=\"Suggest charts\"\n",
       "            style=\"display:none;\">\n",
       "\n",
       "<svg xmlns=\"http://www.w3.org/2000/svg\" height=\"24px\"viewBox=\"0 0 24 24\"\n",
       "     width=\"24px\">\n",
       "    <g>\n",
       "        <path d=\"M19 3H5c-1.1 0-2 .9-2 2v14c0 1.1.9 2 2 2h14c1.1 0 2-.9 2-2V5c0-1.1-.9-2-2-2zM9 17H7v-7h2v7zm4 0h-2V7h2v10zm4 0h-2v-4h2v4z\"/>\n",
       "    </g>\n",
       "</svg>\n",
       "  </button>\n",
       "\n",
       "<style>\n",
       "  .colab-df-quickchart {\n",
       "      --bg-color: #E8F0FE;\n",
       "      --fill-color: #1967D2;\n",
       "      --hover-bg-color: #E2EBFA;\n",
       "      --hover-fill-color: #174EA6;\n",
       "      --disabled-fill-color: #AAA;\n",
       "      --disabled-bg-color: #DDD;\n",
       "  }\n",
       "\n",
       "  [theme=dark] .colab-df-quickchart {\n",
       "      --bg-color: #3B4455;\n",
       "      --fill-color: #D2E3FC;\n",
       "      --hover-bg-color: #434B5C;\n",
       "      --hover-fill-color: #FFFFFF;\n",
       "      --disabled-bg-color: #3B4455;\n",
       "      --disabled-fill-color: #666;\n",
       "  }\n",
       "\n",
       "  .colab-df-quickchart {\n",
       "    background-color: var(--bg-color);\n",
       "    border: none;\n",
       "    border-radius: 50%;\n",
       "    cursor: pointer;\n",
       "    display: none;\n",
       "    fill: var(--fill-color);\n",
       "    height: 32px;\n",
       "    padding: 0;\n",
       "    width: 32px;\n",
       "  }\n",
       "\n",
       "  .colab-df-quickchart:hover {\n",
       "    background-color: var(--hover-bg-color);\n",
       "    box-shadow: 0 1px 2px rgba(60, 64, 67, 0.3), 0 1px 3px 1px rgba(60, 64, 67, 0.15);\n",
       "    fill: var(--button-hover-fill-color);\n",
       "  }\n",
       "\n",
       "  .colab-df-quickchart-complete:disabled,\n",
       "  .colab-df-quickchart-complete:disabled:hover {\n",
       "    background-color: var(--disabled-bg-color);\n",
       "    fill: var(--disabled-fill-color);\n",
       "    box-shadow: none;\n",
       "  }\n",
       "\n",
       "  .colab-df-spinner {\n",
       "    border: 2px solid var(--fill-color);\n",
       "    border-color: transparent;\n",
       "    border-bottom-color: var(--fill-color);\n",
       "    animation:\n",
       "      spin 1s steps(1) infinite;\n",
       "  }\n",
       "\n",
       "  @keyframes spin {\n",
       "    0% {\n",
       "      border-color: transparent;\n",
       "      border-bottom-color: var(--fill-color);\n",
       "      border-left-color: var(--fill-color);\n",
       "    }\n",
       "    20% {\n",
       "      border-color: transparent;\n",
       "      border-left-color: var(--fill-color);\n",
       "      border-top-color: var(--fill-color);\n",
       "    }\n",
       "    30% {\n",
       "      border-color: transparent;\n",
       "      border-left-color: var(--fill-color);\n",
       "      border-top-color: var(--fill-color);\n",
       "      border-right-color: var(--fill-color);\n",
       "    }\n",
       "    40% {\n",
       "      border-color: transparent;\n",
       "      border-right-color: var(--fill-color);\n",
       "      border-top-color: var(--fill-color);\n",
       "    }\n",
       "    60% {\n",
       "      border-color: transparent;\n",
       "      border-right-color: var(--fill-color);\n",
       "    }\n",
       "    80% {\n",
       "      border-color: transparent;\n",
       "      border-right-color: var(--fill-color);\n",
       "      border-bottom-color: var(--fill-color);\n",
       "    }\n",
       "    90% {\n",
       "      border-color: transparent;\n",
       "      border-bottom-color: var(--fill-color);\n",
       "    }\n",
       "  }\n",
       "</style>\n",
       "\n",
       "  <script>\n",
       "    async function quickchart(key) {\n",
       "      const quickchartButtonEl =\n",
       "        document.querySelector('#' + key + ' button');\n",
       "      quickchartButtonEl.disabled = true;  // To prevent multiple clicks.\n",
       "      quickchartButtonEl.classList.add('colab-df-spinner');\n",
       "      try {\n",
       "        const charts = await google.colab.kernel.invokeFunction(\n",
       "            'suggestCharts', [key], {});\n",
       "      } catch (error) {\n",
       "        console.error('Error during call to suggestCharts:', error);\n",
       "      }\n",
       "      quickchartButtonEl.classList.remove('colab-df-spinner');\n",
       "      quickchartButtonEl.classList.add('colab-df-quickchart-complete');\n",
       "    }\n",
       "    (() => {\n",
       "      let quickchartButtonEl =\n",
       "        document.querySelector('#df-f7b75e25-bbcb-4185-9e57-6d2822b6000d button');\n",
       "      quickchartButtonEl.style.display =\n",
       "        google.colab.kernel.accessAllowed ? 'block' : 'none';\n",
       "    })();\n",
       "  </script>\n",
       "</div>\n",
       "\n",
       "    </div>\n",
       "  </div>\n"
      ],
      "text/plain": [
       "                                                text  targe\n",
       "0  بين أستوديوهات ورزازات وصحراء مرزوكة وآثار ولي...      0\n",
       "1  قررت النجمة الأمريكية أوبرا وينفري ألا يقتصر ع...      0\n",
       "2  أخبارنا المغربية الوزاني تصوير الشملالي ألهب ا...      0\n",
       "3  اخبارنا المغربية قال ابراهيم الراشدي محامي سعد...      0\n",
       "4  تزال صناعة الجلود في المغرب تتبع الطريقة التقل...      0"
      ]
     },
     "execution_count": 4,
     "metadata": {},
     "output_type": "execute_result"
    }
   ],
   "source": [
    "df.head()"
   ]
  },
  {
   "cell_type": "code",
   "execution_count": 5,
   "id": "Qs2kwpp3qVSt",
   "metadata": {
    "colab": {
     "base_uri": "https://localhost:8080/"
    },
    "id": "Qs2kwpp3qVSt",
    "outputId": "409da6ba-9fdd-408c-c981-cca1cde64550"
   },
   "outputs": [
    {
     "name": "stdout",
     "output_type": "stream",
     "text": [
      "<class 'pandas.core.frame.DataFrame'>\n",
      "RangeIndex: 111728 entries, 0 to 111727\n",
      "Data columns (total 2 columns):\n",
      " #   Column  Non-Null Count   Dtype \n",
      "---  ------  --------------   ----- \n",
      " 0   text    108789 non-null  object\n",
      " 1   targe   111728 non-null  int64 \n",
      "dtypes: int64(1), object(1)\n",
      "memory usage: 1.7+ MB\n"
     ]
    }
   ],
   "source": [
    "df.info()"
   ]
  },
  {
   "cell_type": "code",
   "execution_count": 6,
   "id": "7nekI4R1qY1w",
   "metadata": {
    "id": "7nekI4R1qY1w"
   },
   "outputs": [],
   "source": [
    "df=df.dropna()"
   ]
  },
  {
   "cell_type": "code",
   "execution_count": 7,
   "id": "KWyfvdcjq30L",
   "metadata": {
    "id": "KWyfvdcjq30L"
   },
   "outputs": [],
   "source": [
    "X = df['text']\n",
    "y = df['targe']"
   ]
  },
  {
   "cell_type": "code",
   "execution_count": 23,
   "id": "9cdb65c2",
   "metadata": {
    "id": "e7b7780d",
    "papermill": {
     "duration": 0.734344,
     "end_time": "2023-05-04T06:22:31.263576",
     "exception": false,
     "start_time": "2023-05-04T06:22:30.529232",
     "status": "completed"
    },
    "tags": []
   },
   "outputs": [],
   "source": [
    "dict1={0:'Culture',1:\"diverse\",2:'Economy',3:\"Politic\",4:'Sport'}"
   ]
  },
  {
   "cell_type": "code",
   "execution_count": 8,
   "id": "gdIic4lFrAKI",
   "metadata": {
    "id": "gdIic4lFrAKI"
   },
   "outputs": [],
   "source": [
    "label_encoder = LabelEncoder()\n",
    "y = label_encoder.fit_transform(y)"
   ]
  },
  {
   "cell_type": "code",
   "execution_count": 9,
   "id": "7f3dcc31",
   "metadata": {
    "execution": {
     "iopub.execute_input": "2023-05-04T00:39:22.814194Z",
     "iopub.status.busy": "2023-05-04T00:39:22.813898Z",
     "iopub.status.idle": "2023-05-04T00:40:24.942387Z",
     "shell.execute_reply": "2023-05-04T00:40:24.941385Z"
    },
    "id": "7f3dcc31",
    "papermill": {
     "duration": 62.134803,
     "end_time": "2023-05-04T00:40:24.944947",
     "exception": false,
     "start_time": "2023-05-04T00:39:22.810144",
     "status": "completed"
    },
    "tags": []
   },
   "outputs": [],
   "source": [
    "# Split the data into training and testing sets\n",
    "X_train, X_test, y_train, y_test = train_test_split(X, y, test_size=0.25, random_state=42)"
   ]
  },
  {
   "cell_type": "code",
   "execution_count": 10,
   "id": "gqjroJD-rEke",
   "metadata": {
    "id": "gqjroJD-rEke"
   },
   "outputs": [],
   "source": [
    "# Tokenize the input text data\n",
    "tokenizer = Tokenizer()\n",
    "tokenizer.fit_on_texts(X_train)\n",
    "X_train = tokenizer.texts_to_sequences(X_train)\n",
    "X_test = tokenizer.texts_to_sequences(X_test)"
   ]
  },
  {
   "cell_type": "code",
   "execution_count": 11,
   "id": "QUM-85QHu-u9",
   "metadata": {
    "colab": {
     "base_uri": "https://localhost:8080/"
    },
    "id": "QUM-85QHu-u9",
    "outputId": "9e84e288-2c25-4eeb-f578-c08ba6cb7c55"
   },
   "outputs": [
    {
     "data": {
      "text/plain": [
       "[79378,\n",
       " 165817,\n",
       " 2356,\n",
       " 1,\n",
       " 1778,\n",
       " 182,\n",
       " 46511,\n",
       " 3,\n",
       " 158,\n",
       " 1124,\n",
       " 11035,\n",
       " 215592,\n",
       " 897,\n",
       " 1719,\n",
       " 553,\n",
       " 170,\n",
       " 954,\n",
       " 713,\n",
       " 286,\n",
       " 238,\n",
       " 31,\n",
       " 1,\n",
       " 3841,\n",
       " 4868,\n",
       " 22197,\n",
       " 23706,\n",
       " 10997,\n",
       " 1,\n",
       " 185,\n",
       " 723,\n",
       " 2982,\n",
       " 26201,\n",
       " 12926,\n",
       " 3292,\n",
       " 6861,\n",
       " 32,\n",
       " 897,\n",
       " 1134,\n",
       " 8737,\n",
       " 182,\n",
       " 1374,\n",
       " 3600,\n",
       " 930,\n",
       " 5613,\n",
       " 2896,\n",
       " 10030,\n",
       " 9177,\n",
       " 1113,\n",
       " 19619,\n",
       " 8303,\n",
       " 22198,\n",
       " 4341,\n",
       " 1700,\n",
       " 2031,\n",
       " 1863,\n",
       " 609,\n",
       " 74,\n",
       " 2546,\n",
       " 15285,\n",
       " 3600,\n",
       " 930,\n",
       " 20129,\n",
       " 2356,\n",
       " 8105,\n",
       " 22545,\n",
       " 2299,\n",
       " 47,\n",
       " 3462,\n",
       " 5170,\n",
       " 124,\n",
       " 1033,\n",
       " 3,\n",
       " 1214,\n",
       " 473,\n",
       " 4,\n",
       " 2007,\n",
       " 745,\n",
       " 1,\n",
       " 1035,\n",
       " 22747,\n",
       " 738,\n",
       " 12209,\n",
       " 2039,\n",
       " 23893,\n",
       " 8650,\n",
       " 2344,\n",
       " 18,\n",
       " 512,\n",
       " 851,\n",
       " 20578,\n",
       " 1374,\n",
       " 3033,\n",
       " 101776,\n",
       " 3351,\n",
       " 6887,\n",
       " 48602,\n",
       " 5,\n",
       " 10439,\n",
       " 7980,\n",
       " 10838,\n",
       " 9177,\n",
       " 13478,\n",
       " 3327,\n",
       " 74,\n",
       " 468,\n",
       " 7953,\n",
       " 11677,\n",
       " 4326,\n",
       " 1449,\n",
       " 4153,\n",
       " 13351,\n",
       " 3868,\n",
       " 8421,\n",
       " 20,\n",
       " 1,\n",
       " 185,\n",
       " 305,\n",
       " 1234,\n",
       " 3708,\n",
       " 32,\n",
       " 207,\n",
       " 64,\n",
       " 6801,\n",
       " 6767,\n",
       " 12116,\n",
       " 2299,\n",
       " 3,\n",
       " 586,\n",
       " 8458,\n",
       " 20728,\n",
       " 2158,\n",
       " 2705,\n",
       " 5,\n",
       " 213,\n",
       " 231,\n",
       " 468,\n",
       " 30805,\n",
       " 11,\n",
       " 139968,\n",
       " 2,\n",
       " 7954,\n",
       " 17547,\n",
       " 5,\n",
       " 1778,\n",
       " 182,\n",
       " 1374,\n",
       " 820,\n",
       " 28730,\n",
       " 2,\n",
       " 13352,\n",
       " 3842,\n",
       " 3113,\n",
       " 6822,\n",
       " 3,\n",
       " 1298,\n",
       " 527,\n",
       " 362,\n",
       " 9870,\n",
       " 22,\n",
       " 51012,\n",
       " 3,\n",
       " 15575,\n",
       " 12116,\n",
       " 3960,\n",
       " 20129,\n",
       " 2356,\n",
       " 1,\n",
       " 2974,\n",
       " 32787,\n",
       " 15003,\n",
       " 3,\n",
       " 1298,\n",
       " 13765,\n",
       " 4084,\n",
       " 8957,\n",
       " 1,\n",
       " 435,\n",
       " 69291,\n",
       " 142,\n",
       " 2,\n",
       " 916,\n",
       " 1326,\n",
       " 628,\n",
       " 384,\n",
       " 7844,\n",
       " 176,\n",
       " 120,\n",
       " 6702,\n",
       " 2680,\n",
       " 2512,\n",
       " 9838,\n",
       " 1808,\n",
       " 851,\n",
       " 2982,\n",
       " 3292,\n",
       " 11064,\n",
       " 3,\n",
       " 1254,\n",
       " 1256,\n",
       " 18860,\n",
       " 170,\n",
       " 7732,\n",
       " 338,\n",
       " 2629,\n",
       " 213,\n",
       " 221,\n",
       " 4173,\n",
       " 1326,\n",
       " 6,\n",
       " 16473,\n",
       " 1,\n",
       " 435,\n",
       " 4,\n",
       " 3073,\n",
       " 8327,\n",
       " 745,\n",
       " 75633,\n",
       " 1035,\n",
       " 22747,\n",
       " 1362,\n",
       " 62122,\n",
       " 2344,\n",
       " 9,\n",
       " 182,\n",
       " 1374,\n",
       " 87,\n",
       " 8711,\n",
       " 1107,\n",
       " 738,\n",
       " 12209,\n",
       " 2425,\n",
       " 486,\n",
       " 25697,\n",
       " 5,\n",
       " 838,\n",
       " 2896,\n",
       " 4341,\n",
       " 1700,\n",
       " 2031,\n",
       " 1863,\n",
       " 609,\n",
       " 10030,\n",
       " 9177,\n",
       " 1113,\n",
       " 32788,\n",
       " 1,\n",
       " 6527,\n",
       " 4868,\n",
       " 801,\n",
       " 18185,\n",
       " 3449,\n",
       " 10998,\n",
       " 1046,\n",
       " 9428,\n",
       " 20877,\n",
       " 83714,\n",
       " 3842,\n",
       " 87,\n",
       " 4828,\n",
       " 3200,\n",
       " 36194,\n",
       " 1,\n",
       " 185,\n",
       " 305,\n",
       " 1234,\n",
       " 3708,\n",
       " 5,\n",
       " 37,\n",
       " 9429,\n",
       " 17856,\n",
       " 3636,\n",
       " 24116,\n",
       " 173,\n",
       " 6887,\n",
       " 3600,\n",
       " 930,\n",
       " 20129,\n",
       " 2356,\n",
       " 1,\n",
       " 122,\n",
       " 7,\n",
       " 21222,\n",
       " 68,\n",
       " 796,\n",
       " 2675,\n",
       " 1326,\n",
       " 5332,\n",
       " 2538,\n",
       " 22,\n",
       " 215593,\n",
       " 1,\n",
       " 4239,\n",
       " 21545,\n",
       " 2751,\n",
       " 3712,\n",
       " 25698,\n",
       " 55123,\n",
       " 2183,\n",
       " 182,\n",
       " 87,\n",
       " 2974,\n",
       " 69292,\n",
       " 3,\n",
       " 17430,\n",
       " 13352,\n",
       " 3842,\n",
       " 3113,\n",
       " 6822,\n",
       " 3,\n",
       " 1298,\n",
       " 527,\n",
       " 362,\n",
       " 223,\n",
       " 10,\n",
       " 1439,\n",
       " 2676,\n",
       " 2897,\n",
       " 3291,\n",
       " 10031,\n",
       " 35,\n",
       " 7521,\n",
       " 5818]"
      ]
     },
     "execution_count": 11,
     "metadata": {},
     "output_type": "execute_result"
    }
   ],
   "source": [
    "X_train[0]"
   ]
  },
  {
   "cell_type": "code",
   "execution_count": 12,
   "id": "c2VGKlkEvLIY",
   "metadata": {
    "id": "c2VGKlkEvLIY"
   },
   "outputs": [],
   "source": [
    "del X,y"
   ]
  },
  {
   "cell_type": "code",
   "execution_count": 13,
   "id": "XNWuMLgNrHkW",
   "metadata": {
    "id": "XNWuMLgNrHkW"
   },
   "outputs": [],
   "source": [
    "# Pad the input sequences to have the same length\n",
    "max_sequence_length = max(len(seq) for seq in X_train)\n",
    "X_train = pad_sequences(X_train, maxlen=max_sequence_length, padding='post')\n",
    "X_test = pad_sequences(X_test, maxlen=max_sequence_length, padding='post')"
   ]
  },
  {
   "cell_type": "code",
   "execution_count": 14,
   "id": "vxee-0_wrbCb",
   "metadata": {
    "colab": {
     "base_uri": "https://localhost:8080/"
    },
    "id": "vxee-0_wrbCb",
    "outputId": "a12ab66e-ba66-47f9-c73a-750e61a01857"
   },
   "outputs": [
    {
     "data": {
      "text/plain": [
       "array([ 79378, 165817,   2356, ...,      0,      0,      0], dtype=int32)"
      ]
     },
     "execution_count": 14,
     "metadata": {},
     "output_type": "execute_result"
    }
   ],
   "source": [
    "X_train[0]"
   ]
  },
  {
   "cell_type": "code",
   "execution_count": 15,
   "id": "2f566998",
   "metadata": {
    "colab": {
     "base_uri": "https://localhost:8080/"
    },
    "execution": {
     "iopub.execute_input": "2023-05-04T00:40:24.952444Z",
     "iopub.status.busy": "2023-05-04T00:40:24.951829Z",
     "iopub.status.idle": "2023-05-04T00:40:24.960174Z",
     "shell.execute_reply": "2023-05-04T00:40:24.959394Z"
    },
    "id": "2f566998",
    "outputId": "2d790b1e-fe25-4775-ec73-9dc336cf1853",
    "papermill": {
     "duration": 0.014003,
     "end_time": "2023-05-04T00:40:24.962107",
     "exception": false,
     "start_time": "2023-05-04T00:40:24.948104",
     "status": "completed"
    },
    "tags": []
   },
   "outputs": [
    {
     "data": {
      "text/plain": [
       "5"
      ]
     },
     "execution_count": 15,
     "metadata": {},
     "output_type": "execute_result"
    }
   ],
   "source": [
    "len(label_encoder.classes_)"
   ]
  },
  {
   "cell_type": "code",
   "execution_count": 16,
   "id": "53b6ded2",
   "metadata": {
    "execution": {
     "iopub.execute_input": "2023-05-04T00:40:24.968658Z",
     "iopub.status.busy": "2023-05-04T00:40:24.968388Z",
     "iopub.status.idle": "2023-05-04T00:40:28.027720Z",
     "shell.execute_reply": "2023-05-04T00:40:28.026753Z"
    },
    "id": "53b6ded2",
    "papermill": {
     "duration": 3.065461,
     "end_time": "2023-05-04T00:40:28.030151",
     "exception": false,
     "start_time": "2023-05-04T00:40:24.964690",
     "status": "completed"
    },
    "tags": []
   },
   "outputs": [],
   "source": [
    "#Build the model\n",
    "model = Sequential()\n",
    "model.add(Embedding(input_dim=len(tokenizer.word_index)+1, output_dim=256, input_length=max_sequence_length))\n",
    "model.add(layers.Bidirectional(layers.LSTM(16, dropout=0.6)))\n",
    "model.add(Dense(32))\n",
    "model.add(Dropout(0.6))\n",
    "model.add(Dense(len(label_encoder.classes_), activation='softmax'))"
   ]
  },
  {
   "cell_type": "code",
   "execution_count": 17,
   "id": "N0aAJanCrzk1",
   "metadata": {
    "id": "N0aAJanCrzk1"
   },
   "outputs": [],
   "source": [
    "# Compile the model\n",
    "adam = Adam(learning_rate=0.001)\n",
    "#rmsprop = tf.keras.optimizers.RMSprop(learning_rate=0.005)\n",
    "model.compile(optimizer= adam, loss='sparse_categorical_crossentropy', metrics=['accuracy'])\n"
   ]
  },
  {
   "cell_type": "code",
   "execution_count": 18,
   "id": "ab7d1656",
   "metadata": {
    "colab": {
     "base_uri": "https://localhost:8080/"
    },
    "execution": {
     "iopub.execute_input": "2023-05-04T00:40:28.037827Z",
     "iopub.status.busy": "2023-05-04T00:40:28.036958Z",
     "iopub.status.idle": "2023-05-04T06:16:55.009415Z",
     "shell.execute_reply": "2023-05-04T06:16:55.008348Z"
    },
    "id": "ab7d1656",
    "outputId": "777712f8-722c-45b4-dc37-21410d7266f4",
    "papermill": {
     "duration": 20186.978899,
     "end_time": "2023-05-04T06:16:55.012109",
     "exception": false,
     "start_time": "2023-05-04T00:40:28.033210",
     "status": "completed"
    },
    "tags": []
   },
   "outputs": [
    {
     "name": "stdout",
     "output_type": "stream",
     "text": [
      "Epoch 1/5\n",
      "319/319 [==============================] - 213s 649ms/step - loss: 0.5979 - accuracy: 0.7818 - val_loss: 0.2304 - val_accuracy: 0.9389\n",
      "Epoch 2/5\n",
      "319/319 [==============================] - 205s 643ms/step - loss: 0.1728 - accuracy: 0.9592 - val_loss: 0.1854 - val_accuracy: 0.9510\n",
      "Epoch 3/5\n",
      "319/319 [==============================] - 205s 642ms/step - loss: 0.0927 - accuracy: 0.9796 - val_loss: 0.1869 - val_accuracy: 0.9522\n",
      "Epoch 4/5\n",
      "319/319 [==============================] - 210s 658ms/step - loss: 0.0533 - accuracy: 0.9890 - val_loss: 0.2181 - val_accuracy: 0.9523\n",
      "Epoch 5/5\n",
      "319/319 [==============================] - 205s 642ms/step - loss: 0.0446 - accuracy: 0.9899 - val_loss: 0.2429 - val_accuracy: 0.9504\n"
     ]
    }
   ],
   "source": [
    "# Train the model\n",
    "history = model.fit(X_train, y_train, validation_data= (X_test, y_test), epochs=5,batch_size=256)"
   ]
  },
  {
   "cell_type": "code",
   "execution_count": 19,
   "id": "a8de30f2",
   "metadata": {
    "colab": {
     "base_uri": "https://localhost:8080/",
     "height": 472
    },
    "execution": {
     "iopub.execute_input": "2023-05-04T06:16:56.360119Z",
     "iopub.status.busy": "2023-05-04T06:16:56.359127Z",
     "iopub.status.idle": "2023-05-04T06:16:56.598384Z",
     "shell.execute_reply": "2023-05-04T06:16:56.597553Z"
    },
    "id": "a8de30f2",
    "outputId": "ba34ac77-8585-4080-f9ed-fdf1bb1495f1",
    "papermill": {
     "duration": 0.915956,
     "end_time": "2023-05-04T06:16:56.600484",
     "exception": false,
     "start_time": "2023-05-04T06:16:55.684528",
     "status": "completed"
    },
    "tags": []
   },
   "outputs": [
    {
     "data": {
      "image/png": "[encoded data removed]",
      "text/plain": [
       "<Figure size 640x480 with 1 Axes>"
      ]
     },
     "metadata": {},
     "output_type": "display_data"
    }
   ],
   "source": [
    "plt.plot(history.history['loss'])\n",
    "plt.plot(history.history['val_loss'])\n",
    "plt.title('Loss vs. epochs')\n",
    "plt.ylabel('Loss')\n",
    "plt.xlabel('Epoch')\n",
    "plt.legend(['Training', 'Validation'], loc='upper right')\n",
    "plt.show()"
   ]
  },
  {
   "cell_type": "code",
   "execution_count": 20,
   "id": "ccf7a2af",
   "metadata": {
    "colab": {
     "base_uri": "https://localhost:8080/",
     "height": 472
    },
    "execution": {
     "iopub.execute_input": "2023-05-04T06:16:58.079008Z",
     "iopub.status.busy": "2023-05-04T06:16:58.078658Z",
     "iopub.status.idle": "2023-05-04T06:16:58.313722Z",
     "shell.execute_reply": "2023-05-04T06:16:58.312808Z"
    },
    "id": "ccf7a2af",
    "outputId": "89959aac-8e79-4a4d-ecb0-b87b7fdfa075",
    "papermill": {
     "duration": 0.937464,
     "end_time": "2023-05-04T06:16:58.315958",
     "exception": false,
     "start_time": "2023-05-04T06:16:57.378494",
     "status": "completed"
    },
    "tags": []
   },
   "outputs": [
    {
     "data": {
      "image/png": "[encoded data removed]",
      "text/plain": [
       "<Figure size 640x480 with 1 Axes>"
      ]
     },
     "metadata": {},
     "output_type": "display_data"
    }
   ],
   "source": [
    "plt.plot(history.history['accuracy'])\n",
    "plt.plot(history.history['val_accuracy'])\n",
    "plt.title('accuracy metric vs. epochs')\n",
    "plt.ylabel('accuracy')\n",
    "plt.xlabel('Epoch')\n",
    "plt.legend(['Training', 'Validation'], loc='lower right')\n",
    "plt.show()"
   ]
  },
  {
   "cell_type": "code",
   "execution_count": 21,
   "id": "5436e8b4",
   "metadata": {
    "colab": {
     "base_uri": "https://localhost:8080/"
    },
    "execution": {
     "iopub.execute_input": "2023-05-04T06:16:59.774108Z",
     "iopub.status.busy": "2023-05-04T06:16:59.773777Z",
     "iopub.status.idle": "2023-05-04T06:22:22.202263Z",
     "shell.execute_reply": "2023-05-04T06:22:22.201280Z"
    },
    "id": "5436e8b4",
    "outputId": "6772bf4c-6be8-444c-e8cf-7ab5de825726",
    "papermill": {
     "duration": 323.920326,
     "end_time": "2023-05-04T06:22:22.911385",
     "exception": false,
     "start_time": "2023-05-04T06:16:58.991059",
     "status": "completed"
    },
    "tags": []
   },
   "outputs": [
    {
     "name": "stdout",
     "output_type": "stream",
     "text": [
      "850/850 [==============================] - 99s 116ms/step - loss: 0.2429 - accuracy: 0.9504\n",
      "Test Loss: 0.24292819201946259\n",
      "Test Accuracy: 0.9504007697105408\n"
     ]
    }
   ],
   "source": [
    "# Evaluate the model\n",
    "loss, accuracy = model.evaluate(X_test, y_test)\n",
    "print('Test Loss:', loss)\n",
    "print('Test Accuracy:', accuracy)"
   ]
  },
  {
   "cell_type": "code",
   "execution_count": 24,
   "id": "99a5fdfd",
   "metadata": {
    "colab": {
     "base_uri": "https://localhost:8080/"
    },
    "execution": {
     "iopub.execute_input": "2023-05-04T06:22:28.894409Z",
     "iopub.status.busy": "2023-05-04T06:22:28.894034Z",
     "iopub.status.idle": "2023-05-04T06:22:29.794729Z",
     "shell.execute_reply": "2023-05-04T06:22:29.793861Z"
    },
    "id": "99a5fdfd",
    "outputId": "e0fff193-8dad-4028-dbb5-c651a86f59e5",
    "papermill": {
     "duration": 1.734836,
     "end_time": "2023-05-04T06:22:29.796677",
     "exception": false,
     "start_time": "2023-05-04T06:22:28.061841",
     "status": "completed"
    },
    "tags": []
   },
   "outputs": [
    {
     "name": "stdout",
     "output_type": "stream",
     "text": [
      "1/1 [==============================] - 0s 116ms/step\n",
      "Predicted class: Sport\n"
     ]
    }
   ],
   "source": [
    "# Input for prediction\n",
    "input_sentence = \"اللاعب تأخر في العودة\"\n",
    "# Tokenize the input sentence\n",
    "input_sequence = tokenizer.texts_to_sequences([input_sentence])\n",
    "input_sequence = pad_sequences(input_sequence, maxlen=max_sequence_length, padding='post')\n",
    "\n",
    "# Make prediction using the model\n",
    "y_pred = model.predict(input_sequence)\n",
    "\n",
    "# Convert the predicted probability to class label\n",
    "y_pred_class = y_pred.argmax(axis=1)[0]\n",
    "\n",
    "# Convert the predicted class to actual value\n",
    "y_pred_name = label_encoder.inverse_transform([y_pred_class])[0]\n",
    "\n",
    "# Print the predicted class\n",
    "print(\"Predicted class:\", dict1[y_pred_name])"
   ]
  },
  {
   "cell_type": "code",
   "execution_count": 25,
   "id": "stoECCjSytc6",
   "metadata": {
    "colab": {
     "base_uri": "https://localhost:8080/"
    },
    "id": "stoECCjSytc6",
    "outputId": "96f24558-4226-40a2-f7e7-069924217910"
   },
   "outputs": [
    {
     "name": "stdout",
     "output_type": "stream",
     "text": [
      "1/1 [==============================] - 0s 113ms/step\n",
      "Predicted class: diverse\n"
     ]
    }
   ],
   "source": [
    "# Input for prediction\n",
    "input_sentence =  \"قامت الشرطة القبض على اللصوص\"\n",
    "# Tokenize the input sentence\n",
    "input_sequence = tokenizer.texts_to_sequences([input_sentence])\n",
    "input_sequence = pad_sequences(input_sequence, maxlen=max_sequence_length, padding='post')\n",
    "\n",
    "# Make prediction using the trained model\n",
    "y_pred = model.predict(input_sequence)\n",
    "\n",
    "# Convert the predicted probability to class label\n",
    "y_pred_class = y_pred.argmax(axis=1)[0]\n",
    "\n",
    "# Convert the predicted class to actual value\n",
    "y_pred_name = label_encoder.inverse_transform([y_pred_class])[0]\n",
    "\n",
    "# Print the predicted class\n",
    "print(\"Predicted class:\", dict1[y_pred_name])"
   ]
  },
  {
   "cell_type": "code",
   "execution_count": 26,
   "id": "9WhJ243d2KME",
   "metadata": {
    "colab": {
     "base_uri": "https://localhost:8080/"
    },
    "id": "9WhJ243d2KME",
    "outputId": "71682e7d-0e3c-4abb-c81f-d24e595ede6e"
   },
   "outputs": [
    {
     "name": "stdout",
     "output_type": "stream",
     "text": [
      "1/1 [==============================] - 0s 196ms/step\n",
      "Predicted class: Politic\n"
     ]
    }
   ],
   "source": [
    "# Input for prediction\n",
    "input_sentence =  \"قامت الدولة بعمل إصلاحات قضائية و دستورية\"\n",
    "# Tokenize the input sentence\n",
    "input_sequence = tokenizer.texts_to_sequences([input_sentence])\n",
    "input_sequence = pad_sequences(input_sequence, maxlen=max_sequence_length, padding='post')\n",
    "\n",
    "# Make prediction using the trained model\n",
    "y_pred = model.predict(input_sequence)\n",
    "\n",
    "# Convert the predicted probability to class label\n",
    "y_pred_class = y_pred.argmax(axis=1)[0]\n",
    "\n",
    "# Convert the predicted class to actual value\n",
    "y_pred_name = label_encoder.inverse_transform([y_pred_class])[0]\n",
    "\n",
    "# Print the predicted class\n",
    "print(\"Predicted class:\", dict1[y_pred_name])"
   ]
  },
  {
   "cell_type": "code",
   "execution_count": 27,
   "id": "marA0Zuw3UAj",
   "metadata": {
    "colab": {
     "base_uri": "https://localhost:8080/"
    },
    "id": "marA0Zuw3UAj",
    "outputId": "944dbe52-e64b-41a0-dac6-8074d199c68b"
   },
   "outputs": [
    {
     "name": "stdout",
     "output_type": "stream",
     "text": [
      "1/1 [==============================] - 0s 115ms/step\n",
      "Predicted class: Economy\n"
     ]
    }
   ],
   "source": [
    "# Input for prediction\n",
    "input_sentence =  \"مع نهاية الموسم الحالي ستنتج مصر ألف طن من الحبوب\"\n",
    "# Tokenize the input sentence\n",
    "input_sequence = tokenizer.texts_to_sequences([input_sentence])\n",
    "input_sequence = pad_sequences(input_sequence, maxlen=max_sequence_length, padding='post')\n",
    "\n",
    "# Make prediction using the trained model\n",
    "y_pred = model.predict(input_sequence)\n",
    "\n",
    "# Convert the predicted probability to class label\n",
    "y_pred_class = y_pred.argmax(axis=1)[0]\n",
    "\n",
    "# Convert the predicted class label back to CPT Name using the label encoder\n",
    "y_pred_name = label_encoder.inverse_transform([y_pred_class])[0]\n",
    "\n",
    "# Print the predicted class\n",
    "print(\"Predicted class:\", dict1[y_pred_name])"
   ]
  }
 ],
 "metadata": {
  "accelerator": "GPU",
  "colab": {
   "gpuType": "T4",
   "provenance": []
  },
  "kernelspec": {
   "display_name": "Python 3 (ipykernel)",
   "language": "python",
   "name": "python3"
  },
  "language_info": {
   "codemirror_mode": {
    "name": "ipython",
    "version": 3
   },
   "file_extension": ".py",
   "mimetype": "text/x-python",
   "name": "python",
   "nbconvert_exporter": "python",
   "pygments_lexer": "ipython3",
   "version": "3.11.5"
  },
  "papermill": {
   "default_parameters": {},
   "duration": 20615.98591,
   "end_time": "2023-05-04T06:22:35.783380",
   "environment_variables": {},
   "exception": null,
   "input_path": "__notebook__.ipynb",
   "output_path": "__notebook__.ipynb",
   "parameters": {},
   "start_time": "2023-05-04T00:38:59.797470",
   "version": "2.4.0"
  }
 },
 "nbformat": 4,
 "nbformat_minor": 5
}
